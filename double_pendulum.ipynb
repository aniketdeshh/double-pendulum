{
 "cells": [
  {
   "cell_type": "code",
   "execution_count": 1,
   "metadata": {},
   "outputs": [],
   "source": [
    "# imports\n",
    "import numpy as np\n",
    "import sympy as smp\n",
    "from scipy.integrate import odeint\n",
    "import matplotlib.pyplot as plt\n",
    "from matplotlib import animation\n",
    "from matplotlib.animation import PillowWriter\n",
    "from mpl_toolkits.mplot3d import Axes3D"
   ]
  },
  {
   "cell_type": "code",
   "execution_count": 2,
   "metadata": {},
   "outputs": [],
   "source": [
    "# symbols for equation variables\n",
    "t, g = smp.symbols('t g')\n",
    "m1, m2 = smp.symbols('m1 m2')\n",
    "L1, L2 = smp.symbols('L1 L2')"
   ]
  },
  {
   "cell_type": "code",
   "execution_count": 3,
   "metadata": {},
   "outputs": [],
   "source": [
    "# creating thetas\n",
    "the1, the2 = smp.symbols(r'\\theta_1 \\theta_2', cls=smp.Function)\n",
    "the1 = the1(t)\n",
    "the2 = the2(t)"
   ]
  },
  {
   "cell_type": "code",
   "execution_count": 4,
   "metadata": {},
   "outputs": [],
   "source": [
    "# derivatives of thetas\n",
    "dthe_1 = smp.diff(the1, t)\n",
    "dthe_2 = smp.diff(the2, t)\n",
    "ddthe_1 = smp.diff(dthe_1, t)\n",
    "ddthe_2 = smp.diff(dthe_2, t)"
   ]
  },
  {
   "cell_type": "code",
   "execution_count": 5,
   "metadata": {},
   "outputs": [],
   "source": [
    "# positions\n",
    "x1 = L1 * smp.sin(the1)\n",
    "y1 = -L1 * smp.cos(the1) \n",
    "x2 = x1 + L2 * smp.sin(the2)\n",
    "y2 = y1 - L2 * smp.cos(the2)"
   ]
  },
  {
   "cell_type": "code",
   "execution_count": 6,
   "metadata": {},
   "outputs": [],
   "source": [
    "# velocities\n",
    "vx_1 = smp.diff(x1, t)\n",
    "vy_1 = smp.diff(y1, t)\n",
    "vx_2 = smp.diff(x2, t)\n",
    "vy_2 = smp.diff(y2, t)\n",
    "\n",
    "# Kinetic energy and Potential energy\n",
    "T1 = 1/2 * m1 * (vx_1**2 + vy_1**2)\n",
    "T2 = 1/2 * m2 * (vx_2**2 + vy_2**2)\n",
    "T = T1 + T2\n",
    "\n",
    "V1 = m1*g*y1\n",
    "V2 = m2*g*y2\n",
    "V = V1 + V2\n",
    "\n",
    "# Lagrangian\n",
    "L = T-V"
   ]
  },
  {
   "cell_type": "code",
   "execution_count": 12,
   "metadata": {},
   "outputs": [],
   "source": [
    "# Lagrange's Equations of motion for each theta\n",
    "LE1 = smp.diff(L, the1) - smp.diff(smp.diff(L, dthe_1), t).simplify()\n",
    "LE2 = smp.diff(L, the2) - smp.diff(smp.diff(L, dthe_2), t).simplify()"
   ]
  },
  {
   "cell_type": "code",
   "execution_count": 8,
   "metadata": {},
   "outputs": [],
   "source": [
    "# solving the equations of motion\n",
    "sols = smp.solve([LE1, LE2], (ddthe_1, ddthe_2), simplify=False, rational=False)"
   ]
  },
  {
   "cell_type": "code",
   "execution_count": 9,
   "metadata": {},
   "outputs": [],
   "source": [
    "dw1dt_f = smp.lambdify((t, g, m1, L1, m2, L2, the1, dthe_1, the2, dthe_2), sols[ddthe_1])\n",
    "dw2dt_f = smp.lambdify((t, g, m1, L1, m2, L2, the1, dthe_1, the2, dthe_2), sols[ddthe_2])\n",
    "dthe1dt_f = smp.lambdify(dthe_1, dthe_1)\n",
    "dthe2dt_f = smp.lambdify(dthe_2, dthe_2)"
   ]
  },
  {
   "cell_type": "code",
   "execution_count": 10,
   "metadata": {},
   "outputs": [],
   "source": [
    "def dSdt(S, t, g, m1, m2, L1, L2):\n",
    "    the1, w1, the2, w2 = S\n",
    "    return [\n",
    "        dthe1dt_f(w1),\n",
    "        dw1dt_f(t, g, m1, L1, m2, L2, the1, w1, the2, w2),\n",
    "        dthe2dt_f(w2),\n",
    "        dw2dt_f(t, g, m1, L1, m2, L2, the1, w1, the2, w2)\n",
    "    ]"
   ]
  },
  {
   "cell_type": "code",
   "execution_count": 11,
   "metadata": {},
   "outputs": [],
   "source": [
    "t = np.linspace(0, 40, 1001)\n",
    "g, m1, m2, L1, L2 = 9.81, 2, 1, 2, 1\n",
    "ans = odeint(dSdt, y0=(1, -3, -1, 5), t=t, args=(g, m1, m2, L1, L2))"
   ]
  },
  {
   "cell_type": "code",
   "execution_count": 12,
   "metadata": {},
   "outputs": [],
   "source": [
    "the1 = ans.T[0]\n",
    "the2 = ans.T[2]"
   ]
  },
  {
   "cell_type": "code",
   "execution_count": 13,
   "metadata": {},
   "outputs": [
    {
     "data": {
      "text/plain": [
       "<matplotlib.legend.Legend at 0x240881396a0>"
      ]
     },
     "execution_count": 13,
     "metadata": {},
     "output_type": "execute_result"
    },
    {
     "data": {
      "image/png": "[encoded data removed]",
      "text/plain": [
       "<Figure size 432x288 with 1 Axes>"
      ]
     },
     "metadata": {
      "needs_background": "light"
     },
     "output_type": "display_data"
    }
   ],
   "source": [
    "plt.plot(t, the1, label=r'$\\theta_1$')\n",
    "plt.plot(t, the2, label=r'$\\theta_2$')\n",
    "plt.legend()"
   ]
  },
  {
   "cell_type": "code",
   "execution_count": 14,
   "metadata": {},
   "outputs": [],
   "source": [
    "def get_pos(t, the1, the2, L1, L2):\n",
    "    x1 = L1 * np.sin(the1)\n",
    "    y1 = -L1 * np.cos(the1) \n",
    "    x2 = x1 + L2 * np.sin(the2)\n",
    "    y2 = y1 - L2 * np.cos(the2)\n",
    "    return (x1, y1, x2, y2)\n",
    "\n",
    "x1, y1, x2, y2 = get_pos(t, the1, the2, L1, L2)"
   ]
  },
  {
   "cell_type": "code",
   "execution_count": 15,
   "metadata": {},
   "outputs": [
    {
     "data": {
      "image/png": "[encoded data removed]",
      "text/plain": [
       "<Figure size 576x576 with 1 Axes>"
      ]
     },
     "metadata": {},
     "output_type": "display_data"
    }
   ],
   "source": [
    "def animate(i):\n",
    "    ln1.set_data([0, x1[i], x2[i]], [0, y1[i], y2[i]])\n",
    "\n",
    "fig, ax = plt.subplots(1, 1, figsize=(8, 8))\n",
    "ax.set_facecolor('k')\n",
    "ax.get_xaxis().set_ticks([])\n",
    "ax.get_yaxis().set_ticks([])\n",
    "ln1, = plt.plot([], [], 'ro--', lw=3, markersize=8)\n",
    "ax.set_xlim(-4, 4)\n",
    "ax.set_ylim(-4, 4)\n",
    "\n",
    "ani = animation.FuncAnimation(fig, animate, range(len(t)), interval=50)\n",
    "ani.save('pendulum.gif', writer=PillowWriter(fps=25))"
   ]
  },
  {
   "cell_type": "code",
   "execution_count": null,
   "metadata": {},
   "outputs": [],
   "source": []
  }
 ],
 "metadata": {
  "interpreter": {
   "hash": "c1a8cfe6883eec5dfeec02a4c0bdfc5ff096058213b62c4b9cbc8e0905a9a717"
  },
  "kernelspec": {
   "display_name": "Python 3.9.7 ('base')",
   "language": "python",
   "name": "python3"
  },
  "language_info": {
   "codemirror_mode": {
    "name": "ipython",
    "version": 3
   },
   "file_extension": ".py",
   "mimetype": "text/x-python",
   "name": "python",
   "nbconvert_exporter": "python",
   "pygments_lexer": "ipython3",
   "version": "3.9.7"
  },
  "orig_nbformat": 4
 },
 "nbformat": 4,
 "nbformat_minor": 2
}
